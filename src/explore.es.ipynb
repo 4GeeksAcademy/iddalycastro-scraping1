{
    "cells": [
        {
            "cell_type": "markdown",
            "metadata": {},
            "source": [
                "# Explora aquí\n",
                "\n",
                "Se recomienda utilizar este cuaderno con fines de exploración."
            ]
        },
        {
            "cell_type": "code",
            "execution_count": 1,
            "metadata": {},
            "outputs": [
                {
                    "name": "stderr",
                    "output_type": "stream",
                    "text": [
                        "/home/vscode/.local/lib/python3.11/site-packages/requests/__init__.py:102: RequestsDependencyWarning: urllib3 (2.4.0) or chardet (None)/charset_normalizer (2.0.12) doesn't match a supported version!\n",
                        "  warnings.warn(\"urllib3 ({}) or chardet ({})/charset_normalizer ({}) doesn't match a supported \"\n"
                    ]
                }
            ],
            "source": [
                "import os\n",
                "import pandas as pd\n",
                "from bs4 import BeautifulSoup as bs\n",
                "import requests\n",
                "import time\n",
                "import sqlite3\n",
                "import matplotlib.pyplot as plt\n",
                "import seaborn as sns\n",
                "url = \"https://www.rhodeskin.com/en-es/collections/shop\"\n"
            ]
        },
        {
            "cell_type": "code",
            "execution_count": 2,
            "metadata": {},
            "outputs": [],
            "source": [
                "# Obtener el html de la pagina \n",
                "response = requests.get(url)\n",
                "html= response.text \n",
                "\n",
                "# Crear el objeto Beautifulsoup\n",
                "soup = bs(html, \"html.parser\")\n",
                "\n",
                "# Encontrar todos los bloques de los producto\n",
                "productos = soup.find_all('div', class_='Product-card-details js-product-details')\n",
                "\n",
                "# NOMBRES\n",
                "lista_nombres = []\n",
                "# Iterar y obtener el nombre de cada producto\n",
                "for producto in productos:\n",
                "    nombre_tag = producto.find('p', {'data-product-title': True})\n",
                "    clean_name = nombre_tag.text.strip()\n",
                "    lista_nombres.append(clean_name)\n",
                "\n",
                "\n",
                "\n",
                "\n",
                "    "
            ]
        },
        {
            "cell_type": "code",
            "execution_count": 3,
            "metadata": {},
            "outputs": [],
            "source": [
                "# PRECIOS\n",
                "lista_precios = []\n",
                "# Iterar y obtener el precio de cada producto\n",
                "for producto in productos:\n",
                "    precio_tag = producto.find('p',class_='u-bold u-noMargin js-currency-check')\n",
                "    clean_precio = precio_tag.text.strip()\n",
                "    lista_precios.append(clean_precio)"
            ]
        },
        {
            "cell_type": "code",
            "execution_count": 4,
            "metadata": {},
            "outputs": [],
            "source": [
                "# SUBTITULO\n",
                "lista_sub = []\n",
                "# iterar y obtener el precio de cada producto\n",
                "for producto in productos:\n",
                "    subtitulo_tag = producto.find('p',class_='u-noMargin')\n",
                "    clean_sub = subtitulo_tag.text.strip()\n",
                "    lista_sub.append(clean_sub)"
            ]
        },
        {
            "cell_type": "code",
            "execution_count": 5,
            "metadata": {},
            "outputs": [],
            "source": [
                "# Valoraciones \n",
                "lista_reviews = []\n",
                "# Obetencion de estrellas por cada producto \n",
                "for producto in productos:\n",
                "\n",
                "    stars = producto.find(\"svg\", id=\"oke-star-symbols\")\n",
                "    review = stars[\"aria-label\"] if stars and stars.has_attr(\"aria-label\") else \"Sin reviews\"\n",
                "    lista_reviews.append(review)\n"
            ]
        },
        {
            "cell_type": "code",
            "execution_count": 6,
            "metadata": {},
            "outputs": [
                {
                    "name": "stdout",
                    "output_type": "stream",
                    "text": [
                        "                      Producto   Precio                   Subtítulo  \\\n",
                        "0                 pocket blush   €32,00                pocket blush   \n",
                        "1                 glazing milk   €42,00                glazing milk   \n",
                        "2                the pink edit   €83,00               the pink edit   \n",
                        "3        the pocket blush trio   €93,00       the pocket blush trio   \n",
                        "4               barrier butter   €50,00              barrier butter   \n",
                        "5               the travel set  €112,00              the travel set   \n",
                        "6            peptide lip shape   €32,00           peptide lip shape   \n",
                        "7             peptide lip tint   €23,00            peptide lip tint   \n",
                        "8                 pocket blush   €32,00                pocket blush   \n",
                        "9                the rhode kit  €153,00               the rhode kit   \n",
                        "10                    lip case   €50,00                    lip case   \n",
                        "11       peptide lip treatment   €23,00       peptide lip treatment   \n",
                        "12       the peptide lip tints  €104,00       the peptide lip tints   \n",
                        "13           pineapple refresh   €39,00           pineapple refresh   \n",
                        "14       the glam on + off set   €76,00       the glam on + off set   \n",
                        "15                    the duos   €55,00                    the duos   \n",
                        "16       peptide glazing fluid   €42,00       peptide glazing fluid   \n",
                        "17       barrier restore cream   €42,00       barrier restore cream   \n",
                        "18             the barrier set  €115,00             the barrier set   \n",
                        "19  the peptide lip treatments   €83,00  the peptide lip treatments   \n",
                        "20   the peptide lip shape set  €122,00   the peptide lip shape set   \n",
                        "21        the pocket blush set  €168,00        the pocket blush set   \n",
                        "22                rhode mirror   €32,00                rhode mirror   \n",
                        "23      the peptide lip combos   €51,00      the peptide lip combos   \n",
                        "\n",
                        "        Reviews  \n",
                        "0   Sin reviews  \n",
                        "1   Sin reviews  \n",
                        "2   Sin reviews  \n",
                        "3   Sin reviews  \n",
                        "4   Sin reviews  \n",
                        "5   Sin reviews  \n",
                        "6   Sin reviews  \n",
                        "7   Sin reviews  \n",
                        "8   Sin reviews  \n",
                        "9   Sin reviews  \n",
                        "10  Sin reviews  \n",
                        "11  Sin reviews  \n",
                        "12  Sin reviews  \n",
                        "13  Sin reviews  \n",
                        "14  Sin reviews  \n",
                        "15  Sin reviews  \n",
                        "16  Sin reviews  \n",
                        "17  Sin reviews  \n",
                        "18  Sin reviews  \n",
                        "19  Sin reviews  \n",
                        "20  Sin reviews  \n",
                        "21  Sin reviews  \n",
                        "22  Sin reviews  \n",
                        "23  Sin reviews  \n"
                    ]
                }
            ],
            "source": [
                "df = pd.DataFrame({\n",
                "    \"Producto\": lista_nombres,\n",
                "    \"Precio\": lista_precios,\n",
                "    \"Subtítulo\": lista_sub,\n",
                "    \"Reviews\": lista_reviews\n",
                "})\n",
                "\n",
                "\n",
                "print (df)\n"
            ]
        },
        {
            "cell_type": "markdown",
            "metadata": {},
            "source": [
                "CREACION DE LA TABLA "
            ]
        },
        {
            "cell_type": "code",
            "execution_count": 14,
            "metadata": {},
            "outputs": [
                {
                    "name": "stdout",
                    "output_type": "stream",
                    "text": [
                        "(1, 'pocket blush', '€32,00', 'pocket blush', 'Sin reviews')\n",
                        "(2, 'glazing milk', '€42,00', 'glazing milk', 'Sin reviews')\n",
                        "(3, 'the pink edit', '€83,00', 'the pink edit', 'Sin reviews')\n",
                        "(4, 'the pocket blush trio', '€93,00', 'the pocket blush trio', 'Sin reviews')\n",
                        "(5, 'barrier butter', '€50,00', 'barrier butter', 'Sin reviews')\n",
                        "(6, 'the travel set', '€112,00', 'the travel set', 'Sin reviews')\n",
                        "(7, 'peptide lip shape', '€32,00', 'peptide lip shape', 'Sin reviews')\n",
                        "(8, 'peptide lip tint', '€23,00', 'peptide lip tint', 'Sin reviews')\n",
                        "(9, 'pocket blush', '€32,00', 'pocket blush', 'Sin reviews')\n",
                        "(10, 'the rhode kit', '€153,00', 'the rhode kit', 'Sin reviews')\n",
                        "(11, 'lip case', '€50,00', 'lip case', 'Sin reviews')\n",
                        "(12, 'peptide lip treatment', '€23,00', 'peptide lip treatment', 'Sin reviews')\n",
                        "(13, 'the peptide lip tints', '€104,00', 'the peptide lip tints', 'Sin reviews')\n",
                        "(14, 'pineapple refresh', '€39,00', 'pineapple refresh', 'Sin reviews')\n",
                        "(15, 'the glam on + off set', '€76,00', 'the glam on + off set', 'Sin reviews')\n",
                        "(16, 'the duos', '€55,00', 'the duos', 'Sin reviews')\n",
                        "(17, 'peptide glazing fluid', '€42,00', 'peptide glazing fluid', 'Sin reviews')\n",
                        "(18, 'barrier restore cream', '€42,00', 'barrier restore cream', 'Sin reviews')\n",
                        "(19, 'the barrier set', '€115,00', 'the barrier set', 'Sin reviews')\n",
                        "(20, 'the peptide lip treatments', '€83,00', 'the peptide lip treatments', 'Sin reviews')\n",
                        "(21, 'the peptide lip shape set', '€122,00', 'the peptide lip shape set', 'Sin reviews')\n",
                        "(22, 'the pocket blush set', '€168,00', 'the pocket blush set', 'Sin reviews')\n",
                        "(23, 'rhode mirror', '€32,00', 'rhode mirror', 'Sin reviews')\n",
                        "(24, 'the peptide lip combos', '€51,00', 'the peptide lip combos', 'Sin reviews')\n",
                        "(25, 'pocket blush', '€32,00', 'pocket blush', 'Sin reviews')\n",
                        "(26, 'glazing milk', '€42,00', 'glazing milk', 'Sin reviews')\n",
                        "(27, 'the pink edit', '€83,00', 'the pink edit', 'Sin reviews')\n",
                        "(28, 'the pocket blush trio', '€93,00', 'the pocket blush trio', 'Sin reviews')\n",
                        "(29, 'barrier butter', '€50,00', 'barrier butter', 'Sin reviews')\n",
                        "(30, 'the travel set', '€112,00', 'the travel set', 'Sin reviews')\n",
                        "(31, 'peptide lip shape', '€32,00', 'peptide lip shape', 'Sin reviews')\n",
                        "(32, 'peptide lip tint', '€23,00', 'peptide lip tint', 'Sin reviews')\n",
                        "(33, 'pocket blush', '€32,00', 'pocket blush', 'Sin reviews')\n",
                        "(34, 'the rhode kit', '€153,00', 'the rhode kit', 'Sin reviews')\n",
                        "(35, 'lip case', '€50,00', 'lip case', 'Sin reviews')\n",
                        "(36, 'peptide lip treatment', '€23,00', 'peptide lip treatment', 'Sin reviews')\n",
                        "(37, 'the peptide lip tints', '€104,00', 'the peptide lip tints', 'Sin reviews')\n",
                        "(38, 'pineapple refresh', '€39,00', 'pineapple refresh', 'Sin reviews')\n",
                        "(39, 'the glam on + off set', '€76,00', 'the glam on + off set', 'Sin reviews')\n",
                        "(40, 'the duos', '€55,00', 'the duos', 'Sin reviews')\n",
                        "(41, 'peptide glazing fluid', '€42,00', 'peptide glazing fluid', 'Sin reviews')\n",
                        "(42, 'barrier restore cream', '€42,00', 'barrier restore cream', 'Sin reviews')\n",
                        "(43, 'the barrier set', '€115,00', 'the barrier set', 'Sin reviews')\n",
                        "(44, 'the peptide lip treatments', '€83,00', 'the peptide lip treatments', 'Sin reviews')\n",
                        "(45, 'the peptide lip shape set', '€122,00', 'the peptide lip shape set', 'Sin reviews')\n",
                        "(46, 'the pocket blush set', '€168,00', 'the pocket blush set', 'Sin reviews')\n",
                        "(47, 'rhode mirror', '€32,00', 'rhode mirror', 'Sin reviews')\n",
                        "(48, 'the peptide lip combos', '€51,00', 'the peptide lip combos', 'Sin reviews')\n",
                        "(49, 'pocket blush', '€32,00', 'pocket blush', 'Sin reviews')\n",
                        "(50, 'glazing milk', '€42,00', 'glazing milk', 'Sin reviews')\n",
                        "(51, 'the pink edit', '€83,00', 'the pink edit', 'Sin reviews')\n",
                        "(52, 'the pocket blush trio', '€93,00', 'the pocket blush trio', 'Sin reviews')\n",
                        "(53, 'barrier butter', '€50,00', 'barrier butter', 'Sin reviews')\n",
                        "(54, 'the travel set', '€112,00', 'the travel set', 'Sin reviews')\n",
                        "(55, 'peptide lip shape', '€32,00', 'peptide lip shape', 'Sin reviews')\n",
                        "(56, 'peptide lip tint', '€23,00', 'peptide lip tint', 'Sin reviews')\n",
                        "(57, 'pocket blush', '€32,00', 'pocket blush', 'Sin reviews')\n",
                        "(58, 'the rhode kit', '€153,00', 'the rhode kit', 'Sin reviews')\n",
                        "(59, 'lip case', '€50,00', 'lip case', 'Sin reviews')\n",
                        "(60, 'peptide lip treatment', '€23,00', 'peptide lip treatment', 'Sin reviews')\n",
                        "(61, 'the peptide lip tints', '€104,00', 'the peptide lip tints', 'Sin reviews')\n",
                        "(62, 'pineapple refresh', '€39,00', 'pineapple refresh', 'Sin reviews')\n",
                        "(63, 'the glam on + off set', '€76,00', 'the glam on + off set', 'Sin reviews')\n",
                        "(64, 'the duos', '€55,00', 'the duos', 'Sin reviews')\n",
                        "(65, 'peptide glazing fluid', '€42,00', 'peptide glazing fluid', 'Sin reviews')\n",
                        "(66, 'barrier restore cream', '€42,00', 'barrier restore cream', 'Sin reviews')\n",
                        "(67, 'the barrier set', '€115,00', 'the barrier set', 'Sin reviews')\n",
                        "(68, 'the peptide lip treatments', '€83,00', 'the peptide lip treatments', 'Sin reviews')\n",
                        "(69, 'the peptide lip shape set', '€122,00', 'the peptide lip shape set', 'Sin reviews')\n",
                        "(70, 'the pocket blush set', '€168,00', 'the pocket blush set', 'Sin reviews')\n",
                        "(71, 'rhode mirror', '€32,00', 'rhode mirror', 'Sin reviews')\n",
                        "(72, 'the peptide lip combos', '€51,00', 'the peptide lip combos', 'Sin reviews')\n"
                    ]
                }
            ],
            "source": [
                "conn = sqlite3.connect('productos.db')  \n",
                "cursor = conn.cursor()\n",
                "\n",
                "cursor.execute(\"\"\"\n",
                "CREATE TABLE IF NOT EXISTS productos (\n",
                "    id INTEGER PRIMARY KEY AUTOINCREMENT,\n",
                "    nombre TEXT,\n",
                "    precio TEXT,\n",
                "    subtitulo TEXT,\n",
                "    reviews TEXT\n",
                ")\n",
                "\"\"\")\n",
                "\n",
                "conn.commit() \n",
                "\n",
                "for i in range(len(lista_nombres)):\n",
                "    cursor.execute(\"\"\"\n",
                "    insert into productos (nombre, precio, subtitulo, reviews)\n",
                "    values (?, ?, ?, ?)\n",
                "    \"\"\", (lista_nombres[i], lista_precios[i], lista_sub[i], lista_reviews[i]))\n",
                "\n",
                "conn.commit()\n",
                "\n",
                "cursor.execute(\"SELECT * FROM productos\")\n",
                "productos_guardados = cursor.fetchall()\n",
                "\n",
                "for fila in productos_guardados:\n",
                "    print(fila)\n",
                "\n"
            ]
        }
    ],
    "metadata": {
        "kernelspec": {
            "display_name": "Python 3",
            "language": "python",
            "name": "python3"
        },
        "language_info": {
            "codemirror_mode": {
                "name": "ipython",
                "version": 3
            },
            "file_extension": ".py",
            "mimetype": "text/x-python",
            "name": "python",
            "nbconvert_exporter": "python",
            "pygments_lexer": "ipython3",
            "version": "3.11.4"
        },
        "orig_nbformat": 4
    },
    "nbformat": 4,
    "nbformat_minor": 2
}
